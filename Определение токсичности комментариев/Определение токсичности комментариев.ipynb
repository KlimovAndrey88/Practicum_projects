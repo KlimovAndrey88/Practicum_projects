{
 "cells": [
  {
   "cell_type": "markdown",
   "metadata": {
    "toc": true
   },
   "source": [
    "<h1>Содержание<span class=\"tocSkip\"></span></h1>\n",
    "<div class=\"toc\"><ul class=\"toc-item\"><li><span><a href=\"#Подготовка\" data-toc-modified-id=\"Подготовка-1\"><span class=\"toc-item-num\">1&nbsp;&nbsp;</span>Подготовка</a></span><ul class=\"toc-item\"><li><span><a href=\"#Импорт-библиотек-и-модулей\" data-toc-modified-id=\"Импорт-библиотек-и-модулей-1.1\"><span class=\"toc-item-num\">1.1&nbsp;&nbsp;</span>Импорт библиотек и модулей</a></span></li><li><span><a href=\"#Загрузка-и-чтение-файла\" data-toc-modified-id=\"Загрузка-и-чтение-файла-1.2\"><span class=\"toc-item-num\">1.2&nbsp;&nbsp;</span>Загрузка и чтение файла</a></span></li><li><span><a href=\"#Проверка-баланса-классов-целевого-признака\" data-toc-modified-id=\"Проверка-баланса-классов-целевого-признака-1.3\"><span class=\"toc-item-num\">1.3&nbsp;&nbsp;</span>Проверка баланса классов целевого признака</a></span></li><li><span><a href=\"#Подготовка-текстовых-данных-датафрейма\" data-toc-modified-id=\"Подготовка-текстовых-данных-датафрейма-1.4\"><span class=\"toc-item-num\">1.4&nbsp;&nbsp;</span>Подготовка текстовых данных датафрейма</a></span></li><li><span><a href=\"#Разделение-данных-на-тренировочную-и-тестовую-выборки,-на-входные-и-целевой-признаки\" data-toc-modified-id=\"Разделение-данных-на-тренировочную-и-тестовую-выборки,-на-входные-и-целевой-признаки-1.5\"><span class=\"toc-item-num\">1.5&nbsp;&nbsp;</span>Разделение данных на тренировочную и тестовую выборки, на входные и целевой признаки</a></span></li></ul></li><li><span><a href=\"#Обучение\" data-toc-modified-id=\"Обучение-2\"><span class=\"toc-item-num\">2&nbsp;&nbsp;</span>Обучение</a></span><ul class=\"toc-item\"><li><span><a href=\"#Обучение-и-поиск-лучшей-модели-с-подбором-гиперпараметров,-вывод-параметров-лучшей-модели\" data-toc-modified-id=\"Обучение-и-поиск-лучшей-модели-с-подбором-гиперпараметров,-вывод-параметров-лучшей-модели-2.1\"><span class=\"toc-item-num\">2.1&nbsp;&nbsp;</span>Обучение и поиск лучшей модели с подбором гиперпараметров, вывод параметров лучшей модели</a></span></li><li><span><a href=\"#Предсказание-лучшей-модели-на-тестовой-выборке-и-расчёт-метрики-F1\" data-toc-modified-id=\"Предсказание-лучшей-модели-на-тестовой-выборке-и-расчёт-метрики-F1-2.2\"><span class=\"toc-item-num\">2.2&nbsp;&nbsp;</span>Предсказание лучшей модели на тестовой выборке и расчёт метрики F1</a></span></li></ul></li><li><span><a href=\"#Выводы\" data-toc-modified-id=\"Выводы-3\"><span class=\"toc-item-num\">3&nbsp;&nbsp;</span>Выводы</a></span></li><li><span><a href=\"#Чек-лист-проверки\" data-toc-modified-id=\"Чек-лист-проверки-4\"><span class=\"toc-item-num\">4&nbsp;&nbsp;</span>Чек-лист проверки</a></span></li></ul></div>"
   ]
  },
  {
   "cell_type": "markdown",
   "metadata": {},
   "source": [
    "# Проект для «Викишоп»"
   ]
  },
  {
   "cell_type": "markdown",
   "metadata": {},
   "source": [
    "Интернет-магазин «Викишоп» запускает новый сервис. Теперь пользователи могут редактировать и дополнять описания товаров, как в вики-сообществах. То есть клиенты предлагают свои правки и комментируют изменения других. Магазину нужен инструмент, который будет искать токсичные комментарии и отправлять их на модерацию. \n",
    "\n",
    "Обучите модель классифицировать комментарии на позитивные и негативные. В вашем распоряжении набор данных с разметкой о токсичности правок.\n",
    "\n",
    "Постройте модель со значением метрики качества *F1* не меньше 0.75. \n",
    "\n",
    "**Инструкция по выполнению проекта**\n",
    "\n",
    "1. Загрузите и подготовьте данные.\n",
    "2. Обучите разные модели. \n",
    "3. Сделайте выводы.\n",
    "\n",
    "Для выполнения проекта применять *BERT* необязательно, но вы можете попробовать.\n",
    "\n",
    "**Описание данных**\n",
    "\n",
    "Данные находятся в файле `toxic_comments.csv`. Столбец *text* в нём содержит текст комментария, а *toxic* — целевой признак."
   ]
  },
  {
   "cell_type": "markdown",
   "metadata": {},
   "source": [
    "## Подготовка"
   ]
  },
  {
   "cell_type": "markdown",
   "metadata": {},
   "source": [
    "### Импорт библиотек и модулей"
   ]
  },
  {
   "cell_type": "code",
   "execution_count": 18,
   "metadata": {},
   "outputs": [],
   "source": [
    "import pandas as pd\n",
    "import numpy as np\n",
    "import re\n",
    "import nltk\n",
    "from nltk.corpus import stopwords\n",
    "from nltk.stem import WordNetLemmatizer\n",
    "import spacy\n",
    "\n",
    "import seaborn as sns\n",
    "import matplotlib.pyplot as plt\n",
    "\n",
    "from sklearn.model_selection import train_test_split, RandomizedSearchCV\n",
    "from sklearn.feature_extraction.text import TfidfVectorizer\n",
    "from sklearn.linear_model import LogisticRegression\n",
    "from sklearn.tree import DecisionTreeClassifier\n",
    "from sklearn.ensemble import RandomForestClassifier\n",
    "\n",
    "from sklearn.metrics import f1_score\n",
    "\n",
    "from sklearn.pipeline import Pipeline\n",
    "from sklearn.preprocessing import LabelEncoder\n",
    "\n",
    "from scipy.stats import uniform, randint \n",
    "import time"
   ]
  },
  {
   "cell_type": "code",
   "execution_count": 2,
   "metadata": {},
   "outputs": [],
   "source": [
    "RANDOM_STATE = 42"
   ]
  },
  {
   "cell_type": "markdown",
   "metadata": {},
   "source": [
    "### Загрузка и чтение файла"
   ]
  },
  {
   "cell_type": "code",
   "execution_count": 3,
   "metadata": {},
   "outputs": [],
   "source": [
    "try:\n",
    "    df = pd.read_csv('toxic_comments.csv')\n",
    "except:\n",
    "    df = pd.read_csv('/datasets/toxic_comments.csv')"
   ]
  },
  {
   "cell_type": "markdown",
   "metadata": {},
   "source": [
    "### Проверка баланса классов целевого признака"
   ]
  },
  {
   "cell_type": "code",
   "execution_count": 4,
   "metadata": {},
   "outputs": [
    {
     "data": {
      "image/png": "[encoded data removed]",
      "text/plain": [
       "<Figure size 432x288 with 1 Axes>"
      ]
     },
     "metadata": {
      "needs_background": "light"
     },
     "output_type": "display_data"
    }
   ],
   "source": [
    "sns.countplot(x='toxic', data=df)\n",
    "plt.title('Распределение классов')\n",
    "plt.show()"
   ]
  },
  {
   "cell_type": "markdown",
   "metadata": {},
   "source": [
    "На графике видно существенный дисбаланс классов. Это необходимо будет учесть при обучении моделей."
   ]
  },
  {
   "cell_type": "markdown",
   "metadata": {},
   "source": [
    "### Подготовка текстовых данных датафрейма"
   ]
  },
  {
   "cell_type": "markdown",
   "metadata": {},
   "source": [
    "Загрузим модель SpaCy"
   ]
  },
  {
   "cell_type": "code",
   "execution_count": 5,
   "metadata": {},
   "outputs": [],
   "source": [
    "try:\n",
    "    nlp = spacy.load('en_core_web_sm')\n",
    "except OSError:  # Обработка ошибки, если модель не установлена\n",
    "    print(\"Загрузка модели en_core_web_sm...\")\n",
    "    import spacy.cli\n",
    "    spacy.cli.download(\"en_core_web_sm\")\n",
    "    nlp = spacy.load('en_core_web_sm')"
   ]
  },
  {
   "cell_type": "markdown",
   "metadata": {},
   "source": [
    "Создадим и применим функцию для удаления всех небуквенных симоволов в столбце df['text']"
   ]
  },
  {
   "cell_type": "code",
   "execution_count": 6,
   "metadata": {},
   "outputs": [],
   "source": [
    "def preprocess_text(text):\n",
    "    text = text.lower()\n",
    "    text = re.sub(r'[^a-zA-Z]', ' ', text)\n",
    "    return text\n",
    "\n",
    "df['text'] = df['text'].apply(preprocess_text)"
   ]
  },
  {
   "cell_type": "markdown",
   "metadata": {},
   "source": [
    "Получим доступ к стоп-словам из SpaCy"
   ]
  },
  {
   "cell_type": "code",
   "execution_count": 7,
   "metadata": {},
   "outputs": [
    {
     "name": "stdout",
     "output_type": "stream",
     "text": [
      "{'me', 'twenty', 'whereas', 'as', 'alone', 'afterwards', 'twelve', 'towards', 'he', 'down', 'either', 'already', '‘re', 'its', 'whose', 'itself', 'some', 'ten', 'about', 'besides', 'yourself', 'three', 'throughout', 'please', 'hence', \"'re\", 'who', 'other', 'had', 'while', 'anyhow', 'much', 'thence', 'how', 'your', 'mine', 'nobody', 'unless', 'since', 'hundred', '’d', 'perhaps', 'both', 'were', 'sixty', '‘s', 'using', 'former', 'just', 'get', 'also', 'from', 'others', \"'d\", 'himself', 'beforehand', 'via', 'none', 'meanwhile', 'nor', 'after', 'fifteen', 'name', 'might', 'by', 'where', 'with', 'under', 'which', 'up', 'indeed', 'could', 'whether', 'seems', 'five', 'has', 'often', 'therefore', 'off', 'herein', 'whoever', 'thereby', 'more', 'eight', 'almost', \"'s\", 'ever', 'thus', 'eleven', 'herself', 'very', 'ours', 'anyway', 'anyone', 'whole', 'someone', 'being', 'say', 'us', \"'ll\", 'may', 'put', 'can', 'always', 'not', 'this', 'each', 'hereupon', 'serious', 'another', 'themselves', 'did', 'whom', 'have', 'ourselves', 'along', 'my', 'third', 'namely', 'should', 'hers', 'hereby', 'seeming', 'give', 'various', 'four', 'than', 'been', 'until', 'everything', 'two', 'never', 'everyone', 'six', 'everywhere', 'several', 'nine', 'these', 'between', 'will', 'myself', 'below', 'sometime', '’s', 'although', 'latterly', 'elsewhere', 'whatever', 'for', 'otherwise', '’re', 'many', 'too', 'his', 'together', 'so', 'bottom', 'amongst', 'yourselves', \"n't\", 'do', 'call', 'ca', 'nothing', 'wherever', 'made', 'on', 'regarding', 'such', 'be', 'formerly', 'again', 'we', 'thereafter', '‘d', 'own', 'because', 'one', 'wherein', 'least', 'really', 'among', 'became', 'that', 'top', 'onto', 'yet', 'seemed', 'why', 'make', 'what', 'somehow', 'here', 'they', 'when', '’ll', 'become', 'i', 'our', 'next', '’m', 'further', 'anywhere', 'less', '’ve', 'are', 'whereupon', 'seem', 'empty', 'out', 'becoming', 'whereby', 'latter', 'there', 'within', 'somewhere', 'still', 'of', 'becomes', 'moreover', 'else', 'go', 'him', 'anything', 'keep', 'the', 'beyond', '‘ve', 'n‘t', 'done', 'noone', 'a', 'amount', 'you', 'around', 'well', 'without', 'back', 'thru', 'first', 'part', 'see', 'across', 'even', 'and', 'however', 'full', 'sometimes', 'into', 'them', 'therein', 'to', 'during', 'only', 'something', 'most', 'though', 'once', 'or', 'must', 'against', 'used', 'fifty', 'her', 'thereupon', \"'ve\", 'show', 'mostly', 'every', 'hereafter', 'enough', 'am', 'upon', 'in', 'take', 'forty', 'whence', 'was', '‘m', 'neither', 'she', 'move', 'side', 'same', 'rather', 'due', \"'m\", 'nevertheless', 'would', 'any', 'behind', 'now', 'their', 'over', 'it', 'all', 'before', 'whither', 'at', 'few', 'does', 'those', 'if', 'nowhere', 'except', 'front', 'quite', 'whereafter', 'but', 'doing', 'is', 'n’t', 'an', 'through', 'above', 'cannot', 'beside', 're', 'whenever', '‘ll', 'no', 'per', 'last', 'yours', 'toward', 'then'}\n"
     ]
    }
   ],
   "source": [
    "stop_words = nlp.Defaults.stop_words\n",
    "print(stop_words)"
   ]
  },
  {
   "cell_type": "markdown",
   "metadata": {},
   "source": [
    "Создадим функцию для лемматизации"
   ]
  },
  {
   "cell_type": "code",
   "execution_count": 8,
   "metadata": {},
   "outputs": [],
   "source": [
    "def lemmatize_text_spacy_no_stopwords(text):\n",
    "    doc = nlp(text)\n",
    "    lemmatized_words = [token.lemma_ for token in doc if not token.is_stop]\n",
    "    return ' '.join(lemmatized_words)"
   ]
  },
  {
   "cell_type": "markdown",
   "metadata": {},
   "source": [
    "Выполним проверку работоспособности функции для лемматизации"
   ]
  },
  {
   "cell_type": "code",
   "execution_count": 9,
   "metadata": {},
   "outputs": [
    {
     "name": "stdout",
     "output_type": "stream",
     "text": [
      "                                                text\n",
      "0  The striped bats are hanging on their feet for...\n",
      "1      you should be ashamed of yourself went worked\n",
      "0    stripe bat hang foot good\n",
      "1              ashamed go work\n",
      "Name: text, dtype: object\n"
     ]
    }
   ],
   "source": [
    "sentence1 = \"The striped bats are hanging on their feet for best\"\n",
    "sentence2 = \"you should be ashamed of yourself went worked\"\n",
    "df_my = pd.DataFrame([sentence1, sentence2], columns = ['text'])\n",
    "print(df_my)\n",
    "\n",
    "print(df_my['text'].apply(lemmatize_text_spacy_no_stopwords))"
   ]
  },
  {
   "cell_type": "markdown",
   "metadata": {},
   "source": [
    "Функция работоспособна"
   ]
  },
  {
   "cell_type": "markdown",
   "metadata": {},
   "source": [
    "Применим функцию лемматизации и создадим новый столбец"
   ]
  },
  {
   "cell_type": "code",
   "execution_count": 11,
   "metadata": {},
   "outputs": [
    {
     "name": "stderr",
     "output_type": "stream",
     "text": [
      "100%|██████████| 159292/159292 [44:56<00:00, 59.07it/s] \n"
     ]
    }
   ],
   "source": [
    "from tqdm import tqdm\n",
    "tqdm.pandas()\n",
    "df['lemm_text'] = df['text'].progress_apply(lemmatize_text_spacy_no_stopwords)"
   ]
  },
  {
   "cell_type": "markdown",
   "metadata": {},
   "source": [
    "### Разделение данных на тренировочную и тестовую выборки, на входные и целевой признаки"
   ]
  },
  {
   "cell_type": "markdown",
   "metadata": {},
   "source": [
    "Разделим данные на выборки"
   ]
  },
  {
   "cell_type": "code",
   "execution_count": 12,
   "metadata": {},
   "outputs": [],
   "source": [
    "X = df['lemm_text']\n",
    "y = df['toxic']\n",
    "X_train, X_test, y_train, y_test = train_test_split(\n",
    "    X,\n",
    "    y,\n",
    "    test_size=0.25, \n",
    "    random_state=RANDOM_STATE)"
   ]
  },
  {
   "cell_type": "markdown",
   "metadata": {},
   "source": [
    "Уменьшим размер тренировочной выборки, т.к. у нас огромный объем данных и поиск лучшей модели займет большое количество времени"
   ]
  },
  {
   "cell_type": "code",
   "execution_count": 13,
   "metadata": {},
   "outputs": [],
   "source": [
    "# Уменьшаем размер выборки\n",
    "SAMPLE_SIZE = 50000\n",
    "\n",
    "# Стратифицированная подвыборка\n",
    "X_train_sampled, _, y_train_sampled, _ = train_test_split(\n",
    "    X_train, \n",
    "    y_train,\n",
    "    train_size=SAMPLE_SIZE if len(X_train) > SAMPLE_SIZE else len(X_train),  # Если X_train меньше SAMPLE_SIZE, берем все X_train\n",
    "    stratify=y_train,\n",
    "    random_state=RANDOM_STATE\n",
    ")"
   ]
  },
  {
   "cell_type": "markdown",
   "metadata": {},
   "source": [
    "## Обучение"
   ]
  },
  {
   "cell_type": "markdown",
   "metadata": {},
   "source": [
    "### Обучение и поиск лучшей модели с подбором гиперпараметров, вывод параметров лучшей модели"
   ]
  },
  {
   "cell_type": "markdown",
   "metadata": {},
   "source": [
    "Создадим пайпллайн и найдем лучшую модель подбором гиперпараметров с помощью RandomizedSearchCV "
   ]
  },
  {
   "cell_type": "code",
   "execution_count": 23,
   "metadata": {},
   "outputs": [],
   "source": [
    "pipeline_lr = Pipeline([\n",
    "    ('tfidf', TfidfVectorizer()),\n",
    "    ('clf', LogisticRegression(\n",
    "        random_state=RANDOM_STATE, \n",
    "        solver='liblinear', \n",
    "        class_weight='balanced'))\n",
    "])\n",
    "\n",
    "pipeline_rf = Pipeline([\n",
    "    ('tfidf', TfidfVectorizer()),\n",
    "    ('clf', RandomForestClassifier(\n",
    "        random_state=RANDOM_STATE, \n",
    "        class_weight='balanced'))\n",
    "])\n",
    "\n",
    "pipeline_dt = Pipeline([\n",
    "    ('tfidf', TfidfVectorizer()),\n",
    "    ('clf', DecisionTreeClassifier(\n",
    "        random_state=RANDOM_STATE, \n",
    "        class_weight='balanced'))\n",
    "])\n",
    "\n",
    "param_distributions_lr = {\n",
    "        'tfidf__ngram_range': [(1, 1), (1, 2)],\n",
    "        'tfidf__max_df': uniform(0.7, 0.3),\n",
    "        'tfidf__min_df': randint(1, 3),\n",
    "        'clf__C': range(5, 15),\n",
    "        'clf__penalty': ['l1', 'l2'] \n",
    "}\n",
    "\n",
    "param_distributions_rf = {\n",
    "        'tfidf__ngram_range': [(1, 1), (1, 2)],\n",
    "        'tfidf__max_df': uniform(0.7, 0.3),\n",
    "        'tfidf__min_df': randint(1, 3),\n",
    "        'clf__n_estimators': [50, 100],\n",
    "        'clf__max_depth': [None, 10, 20]\n",
    "}\n",
    "\n",
    "param_distributions_dt = {\n",
    "        'tfidf__ngram_range': [(1, 1), (1, 2)],\n",
    "        'tfidf__max_df': uniform(0.7, 0.3),\n",
    "        'tfidf__min_df': randint(1, 3),\n",
    "        'clf__max_depth': range(2, 20),\n",
    "        'clf__max_features': range(2, 20),\n",
    "        'clf__min_samples_leaf': range(1, 3),\n",
    "}"
   ]
  },
  {
   "cell_type": "code",
   "execution_count": 15,
   "metadata": {},
   "outputs": [],
   "source": [
    "random_search_lr = RandomizedSearchCV(\n",
    "    pipeline_lr,\n",
    "    param_distributions=param_distributions_lr,\n",
    "    scoring='f1',\n",
    "    cv=3,\n",
    "    n_iter=10,\n",
    "    random_state=RANDOM_STATE,\n",
    "    n_jobs=-1,\n",
    "    verbose=0\n",
    ")"
   ]
  },
  {
   "cell_type": "code",
   "execution_count": 27,
   "metadata": {},
   "outputs": [],
   "source": [
    "random_search_rf = RandomizedSearchCV(\n",
    "    pipeline_rf,\n",
    "    param_distributions=param_distributions_rf,\n",
    "    scoring='f1',\n",
    "    cv=3,\n",
    "    n_iter=5, #уменьшил в два раза, т.к. время обучения было слишком долгим\n",
    "    random_state=RANDOM_STATE,\n",
    "    n_jobs=-1,\n",
    "    verbose=0\n",
    ")"
   ]
  },
  {
   "cell_type": "code",
   "execution_count": 41,
   "metadata": {},
   "outputs": [],
   "source": [
    "random_search_dt = RandomizedSearchCV(\n",
    "    pipeline_dt,\n",
    "    param_distributions=param_distributions_dt,\n",
    "    scoring='f1',\n",
    "    cv=3,\n",
    "    n_iter=10,\n",
    "    random_state=RANDOM_STATE,\n",
    "    n_jobs=-1,\n",
    "    verbose=0\n",
    ")"
   ]
  },
  {
   "cell_type": "code",
   "execution_count": 19,
   "metadata": {},
   "outputs": [],
   "source": [
    "start_time = time.time()\n",
    "\n",
    "random_search_lr.fit(X_train_sampled, y_train_sampled)\n",
    "\n",
    "end_time = time.time()\n",
    "total_time_lr = end_time - start_time\n",
    "print(\"Время обучения модели LogisticRegression:\", total_time_lr)"
   ]
  },
  {
   "cell_type": "code",
   "execution_count": 30,
   "metadata": {},
   "outputs": [
    {
     "name": "stdout",
     "output_type": "stream",
     "text": [
      "Время обучения модели RandomForestClassifier: 243.4261302947998\n"
     ]
    }
   ],
   "source": [
    "start_time = time.time()\n",
    "\n",
    "random_search_rf.fit(X_train_sampled, y_train_sampled)\n",
    "\n",
    "end_time = time.time()\n",
    "total_time_rf = end_time - start_time\n",
    "print(\"Время обучения модели RandomForestClassifier:\", total_time_rf)"
   ]
  },
  {
   "cell_type": "code",
   "execution_count": 42,
   "metadata": {},
   "outputs": [
    {
     "name": "stdout",
     "output_type": "stream",
     "text": [
      "Время обучения модели DecisionTreeClassifier: 89.59011578559875\n"
     ]
    }
   ],
   "source": [
    "start_time = time.time()\n",
    "\n",
    "random_search_dt.fit(X_train_sampled, y_train_sampled)\n",
    "\n",
    "end_time = time.time()\n",
    "total_time_dt = end_time - start_time\n",
    "print(\"Время обучения модели DecisionTreeClassifier:\", total_time_dt)"
   ]
  },
  {
   "cell_type": "markdown",
   "metadata": {},
   "source": [
    "Выведем лучшие параметры моделей каждого класса"
   ]
  },
  {
   "cell_type": "code",
   "execution_count": 44,
   "metadata": {},
   "outputs": [
    {
     "name": "stdout",
     "output_type": "stream",
     "text": [
      "Лучшие параметры модели LogisticRegression: {'clf__C': 11, 'clf__penalty': 'l2', 'tfidf__max_df': 0.9852142919229747, 'tfidf__min_df': 1, 'tfidf__ngram_range': (1, 2)}\n",
      "Лучшие параметры модели RandomForestClassifier: {'clf__max_depth': None, 'clf__n_estimators': 50, 'tfidf__max_df': 0.7468055921327309, 'tfidf__min_df': 1, 'tfidf__ngram_range': (1, 1)}\n",
      "Лучшие параметры модели DecisionTreeClassifier: {'clf__max_depth': 18, 'clf__max_features': 11, 'clf__min_samples_leaf': 2, 'tfidf__max_df': 0.7876433945605654, 'tfidf__min_df': 2, 'tfidf__ngram_range': (1, 1)}\n"
     ]
    }
   ],
   "source": [
    "print(\"Лучшие параметры модели LogisticRegression:\", random_search_lr.best_params_)\n",
    "print(\"Лучшие параметры модели RandomForestClassifier:\", random_search_rf.best_params_)\n",
    "print(\"Лучшие параметры модели DecisionTreeClassifier:\", random_search_dt.best_params_)"
   ]
  },
  {
   "cell_type": "markdown",
   "metadata": {},
   "source": [
    "Сделаем предсказания на тренировочной выборке для моделей каждого класса, затем рассчитаем и сравним их метрики F1 и выберем лучшую модель"
   ]
  },
  {
   "cell_type": "code",
   "execution_count": 45,
   "metadata": {},
   "outputs": [
    {
     "name": "stdout",
     "output_type": "stream",
     "text": [
      "Лучшая модель LogisticRegression с F1 Score: 0.8664393410295387\n"
     ]
    }
   ],
   "source": [
    "y_train_pred_lr = random_search_lr.predict(X_train)\n",
    "y_train_pred_rf = random_search_rf.predict(X_train)\n",
    "y_train_pred_dt = random_search_dt.predict(X_train)\n",
    "\n",
    "f1_train_lr = f1_score(y_train, y_train_pred_lr)\n",
    "f1_train_rf = f1_score(y_train, y_train_pred_rf)\n",
    "f1_train_dt = f1_score(y_train, y_train_pred_dt)\n",
    "\n",
    "largest = max(f1_train_lr, f1_train_rf, f1_train_dt)\n",
    "\n",
    "if largest == f1_train_lr:\n",
    "    best_model = random_search_lr.best_estimator_\n",
    "    print(\"Лучшая модель LogisticRegression с F1 Score:\", f1_train_lr)\n",
    "elif largest == f1_train_rf:\n",
    "    best_model = random_search_rf.best_estimator_\n",
    "    print(\"Лучшая модель RandomForestClassifier с F1 Score:\", f1_train_rf)\n",
    "elif largest == f1_train_dt:\n",
    "    best_model = random_search_dt.best_estimator_\n",
    "    print(\"Лучшая модель DecisionTreeClassifier с F1 Score:\", f1_train_dt)\n",
    "else: \n",
    "    print(\"Метрики F1 Score у моделей равны\")"
   ]
  },
  {
   "cell_type": "markdown",
   "metadata": {},
   "source": [
    "### Предсказание лучшей модели на тестовой выборке и расчёт метрики F1"
   ]
  },
  {
   "cell_type": "code",
   "execution_count": 46,
   "metadata": {},
   "outputs": [
    {
     "name": "stdout",
     "output_type": "stream",
     "text": [
      "F1 Score: 0.7738529226901318\n"
     ]
    }
   ],
   "source": [
    "y_pred = best_model.predict(X_test)\n",
    "f1 = f1_score(y_test, y_pred)\n",
    "print(\"F1 Score:\", f1)"
   ]
  },
  {
   "cell_type": "code",
   "execution_count": 47,
   "metadata": {},
   "outputs": [
    {
     "name": "stdout",
     "output_type": "stream",
     "text": [
      "Модель достигла требуемого значения метрики F1.\n"
     ]
    }
   ],
   "source": [
    "if f1 >= 0.75:\n",
    "    print(\"Модель достигла требуемого значения метрики F1.\")\n",
    "else:\n",
    "    print(\"Модель не достигла требуемого значения метрики F1. Требуется доработка.\")"
   ]
  },
  {
   "cell_type": "markdown",
   "metadata": {},
   "source": [
    "## Выводы"
   ]
  },
  {
   "cell_type": "markdown",
   "metadata": {},
   "source": [
    "1. Выполнена подготовка данных:\n",
    " 1. Импорт библиотек и модулей.\n",
    " 2. Загрузка и чтение файла toxic_comments.csv.\n",
    " 3. Подготовка текстовых данных в столбце df['text']:\n",
    "    * удалены лишние символы с помощью собственной функции;\n",
    "  \t* загружены стоп-слова и выполнена лимматизация текста;\n",
    " 4. Данные разделены на тренировочную и тестовую выборки, на входные и целевой признаки.\n",
    "2. Выполнено обучение модели:\n",
    " 1. Обучение и поиск лучшей модели с подбором гиперпараметров, вывод параметров лучшей модели:\n",
    "  \t* Созданы пайплайн и распределения параметров;\n",
    "  \t* найдена лучшая модель с помощью RandomizedSearchCV;\n",
    "  \t* выведены лучшие параметры: {'clf__C': 11, 'clf__penalty': 'l2', 'tfidf__max_df': 0.9852142919229747, 'tfidf__min_df': 1, 'tfidf__ngram_range': (1, 2)}\n",
    " 2. Предсказание лучшей модели на тестовой выборке и расчёт метрики F1: **F1 Score: 0.773 - удовлетворяет критерию задачи (>0.75)**\n",
    " \n",
    "**Рекомендации для бизнеса:**\n",
    "\n",
    "Для классификации комментариев на позитивные и негативные рекомендуется использовать модель класса **LogisticRegression** с гиперпараметрами {'clf__C': 11, 'clf__penalty': 'l2', 'tfidf__max_df': 0.9852142919229747, 'tfidf__min_df': 1, 'tfidf__ngram_range': (1, 2)}."
   ]
  },
  {
   "cell_type": "code",
   "execution_count": null,
   "metadata": {},
   "outputs": [],
   "source": []
  }
 ],
 "metadata": {
  "ExecuteTimeLog": [
   {
    "duration": 2250,
    "start_time": "2025-03-11T12:54:30.228Z"
   },
   {
    "duration": 2969,
    "start_time": "2025-03-11T12:54:35.193Z"
   },
   {
    "duration": 38,
    "start_time": "2025-03-11T12:54:38.896Z"
   },
   {
    "duration": 235679,
    "start_time": "2025-03-11T12:54:55.681Z"
   },
   {
    "duration": 50,
    "start_time": "2025-03-11T13:05:48.380Z"
   },
   {
    "duration": 2251,
    "start_time": "2025-03-11T13:05:57.468Z"
   },
   {
    "duration": 3094,
    "start_time": "2025-03-11T13:05:59.721Z"
   },
   {
    "duration": 41,
    "start_time": "2025-03-11T13:06:02.817Z"
   },
   {
    "duration": 225781,
    "start_time": "2025-03-11T13:06:02.860Z"
   },
   {
    "duration": 1374,
    "start_time": "2025-03-11T13:23:06.832Z"
   },
   {
    "duration": 940,
    "start_time": "2025-03-11T13:23:08.208Z"
   },
   {
    "duration": 3288,
    "start_time": "2025-03-11T13:23:09.150Z"
   },
   {
    "duration": 402,
    "start_time": "2025-03-11T13:23:12.440Z"
   },
   {
    "duration": 21,
    "start_time": "2025-03-11T13:23:12.844Z"
   },
   {
    "duration": 20210,
    "start_time": "2025-03-11T13:23:12.867Z"
   },
   {
    "duration": 26,
    "start_time": "2025-03-11T13:23:33.079Z"
   },
   {
    "duration": 32,
    "start_time": "2025-03-11T13:23:33.106Z"
   },
   {
    "duration": 16,
    "start_time": "2025-03-11T13:23:33.140Z"
   },
   {
    "duration": 1527222,
    "start_time": "2025-03-11T13:23:33.157Z"
   },
   {
    "duration": 0,
    "start_time": "2025-03-11T13:49:00.381Z"
   },
   {
    "duration": 0,
    "start_time": "2025-03-11T13:49:00.382Z"
   },
   {
    "duration": 0,
    "start_time": "2025-03-11T13:49:00.383Z"
   },
   {
    "duration": 0,
    "start_time": "2025-03-11T13:49:00.385Z"
   },
   {
    "duration": 1470,
    "start_time": "2025-03-11T13:53:01.479Z"
   },
   {
    "duration": 1157,
    "start_time": "2025-03-11T13:53:02.951Z"
   },
   {
    "duration": 3601,
    "start_time": "2025-03-11T13:53:04.110Z"
   },
   {
    "duration": 265,
    "start_time": "2025-03-11T13:53:07.714Z"
   },
   {
    "duration": 23,
    "start_time": "2025-03-11T13:53:07.982Z"
   },
   {
    "duration": 22784,
    "start_time": "2025-03-11T13:53:08.006Z"
   },
   {
    "duration": 35,
    "start_time": "2025-03-11T13:53:30.793Z"
   },
   {
    "duration": 25,
    "start_time": "2025-03-11T13:53:30.830Z"
   },
   {
    "duration": 24,
    "start_time": "2025-03-11T13:53:30.856Z"
   },
   {
    "duration": 545267,
    "start_time": "2025-03-11T13:53:30.882Z"
   },
   {
    "duration": 0,
    "start_time": "2025-03-11T14:02:36.151Z"
   },
   {
    "duration": 0,
    "start_time": "2025-03-11T14:02:36.153Z"
   },
   {
    "duration": 0,
    "start_time": "2025-03-11T14:02:36.156Z"
   },
   {
    "duration": 425804,
    "start_time": "2025-03-11T14:02:48.703Z"
   },
   {
    "duration": 0,
    "start_time": "2025-03-11T14:09:54.509Z"
   },
   {
    "duration": 0,
    "start_time": "2025-03-11T14:09:54.510Z"
   },
   {
    "duration": 0,
    "start_time": "2025-03-11T14:09:54.510Z"
   },
   {
    "duration": 1485,
    "start_time": "2025-03-12T06:04:25.998Z"
   },
   {
    "duration": 3,
    "start_time": "2025-03-12T06:04:27.486Z"
   },
   {
    "duration": 1099,
    "start_time": "2025-03-12T06:04:27.491Z"
   },
   {
    "duration": 3781,
    "start_time": "2025-03-12T06:04:28.592Z"
   },
   {
    "duration": 265,
    "start_time": "2025-03-12T06:04:32.376Z"
   },
   {
    "duration": 23,
    "start_time": "2025-03-12T06:04:32.642Z"
   },
   {
    "duration": 24735,
    "start_time": "2025-03-12T06:04:32.667Z"
   },
   {
    "duration": 29,
    "start_time": "2025-03-12T06:04:57.404Z"
   },
   {
    "duration": 4,
    "start_time": "2025-03-12T06:04:57.435Z"
   },
   {
    "duration": 81,
    "start_time": "2025-03-12T06:04:57.440Z"
   },
   {
    "duration": 0,
    "start_time": "2025-03-12T06:04:57.523Z"
   },
   {
    "duration": 0,
    "start_time": "2025-03-12T06:04:57.525Z"
   },
   {
    "duration": 0,
    "start_time": "2025-03-12T06:04:57.526Z"
   },
   {
    "duration": 0,
    "start_time": "2025-03-12T06:04:57.527Z"
   },
   {
    "duration": 90,
    "start_time": "2025-03-12T06:10:09.757Z"
   },
   {
    "duration": 139,
    "start_time": "2025-03-12T06:11:04.920Z"
   },
   {
    "duration": 13,
    "start_time": "2025-03-12T06:12:41.409Z"
   },
   {
    "duration": 13,
    "start_time": "2025-03-12T06:13:04.528Z"
   },
   {
    "duration": 13,
    "start_time": "2025-03-12T06:13:12.608Z"
   },
   {
    "duration": 88,
    "start_time": "2025-03-12T06:13:35.297Z"
   },
   {
    "duration": 12,
    "start_time": "2025-03-12T06:13:45.648Z"
   },
   {
    "duration": 8,
    "start_time": "2025-03-12T06:18:16.846Z"
   },
   {
    "duration": 15,
    "start_time": "2025-03-12T06:18:23.899Z"
   },
   {
    "duration": 1430,
    "start_time": "2025-03-12T06:38:05.654Z"
   },
   {
    "duration": 5,
    "start_time": "2025-03-12T06:38:07.086Z"
   },
   {
    "duration": 1147,
    "start_time": "2025-03-12T06:38:07.093Z"
   },
   {
    "duration": 3459,
    "start_time": "2025-03-12T06:38:08.242Z"
   },
   {
    "duration": 168,
    "start_time": "2025-03-12T06:38:11.703Z"
   },
   {
    "duration": 23778,
    "start_time": "2025-03-12T06:38:11.873Z"
   },
   {
    "duration": 43,
    "start_time": "2025-03-12T06:38:35.654Z"
   },
   {
    "duration": 50,
    "start_time": "2025-03-12T06:38:35.698Z"
   },
   {
    "duration": 8,
    "start_time": "2025-03-12T06:38:35.749Z"
   },
   {
    "duration": 1516,
    "start_time": "2025-03-12T06:39:32.594Z"
   },
   {
    "duration": 3,
    "start_time": "2025-03-12T06:39:34.112Z"
   },
   {
    "duration": 1050,
    "start_time": "2025-03-12T06:39:34.116Z"
   },
   {
    "duration": 3658,
    "start_time": "2025-03-12T06:39:35.172Z"
   },
   {
    "duration": 245,
    "start_time": "2025-03-12T06:39:38.832Z"
   },
   {
    "duration": 23469,
    "start_time": "2025-03-12T06:39:39.079Z"
   },
   {
    "duration": 47,
    "start_time": "2025-03-12T06:40:02.550Z"
   },
   {
    "duration": 52,
    "start_time": "2025-03-12T06:40:02.599Z"
   },
   {
    "duration": 21,
    "start_time": "2025-03-12T06:40:02.652Z"
   },
   {
    "duration": 1967066,
    "start_time": "2025-03-12T06:40:02.677Z"
   },
   {
    "duration": 0,
    "start_time": "2025-03-12T07:12:49.745Z"
   },
   {
    "duration": 0,
    "start_time": "2025-03-12T07:12:49.746Z"
   },
   {
    "duration": 0,
    "start_time": "2025-03-12T07:12:49.747Z"
   },
   {
    "duration": 57,
    "start_time": "2025-03-12T07:13:15.519Z"
   },
   {
    "duration": 7,
    "start_time": "2025-03-12T07:13:19.398Z"
   },
   {
    "duration": 281223,
    "start_time": "2025-03-12T07:13:22.197Z"
   },
   {
    "duration": 5,
    "start_time": "2025-03-12T07:18:53.902Z"
   },
   {
    "duration": 33076,
    "start_time": "2025-03-12T07:19:41.837Z"
   },
   {
    "duration": 3,
    "start_time": "2025-03-12T07:20:14.915Z"
   },
   {
    "duration": 279630,
    "start_time": "2025-03-12T07:21:43.606Z"
   },
   {
    "duration": 40595,
    "start_time": "2025-03-12T07:27:27.980Z"
   },
   {
    "duration": 3,
    "start_time": "2025-03-12T07:28:53.120Z"
   },
   {
    "duration": 1211,
    "start_time": "2025-03-12T07:28:57.870Z"
   },
   {
    "duration": 50,
    "start_time": "2025-03-12T07:29:16.791Z"
   },
   {
    "duration": 79104,
    "start_time": "2025-03-12T07:29:20.182Z"
   },
   {
    "duration": 86,
    "start_time": "2025-03-12T07:30:39.289Z"
   },
   {
    "duration": 1327,
    "start_time": "2025-03-12T07:30:39.377Z"
   },
   {
    "duration": 3,
    "start_time": "2025-03-12T07:30:40.706Z"
   },
   {
    "duration": 52,
    "start_time": "2025-03-12T07:31:07.222Z"
   },
   {
    "duration": 162137,
    "start_time": "2025-03-12T07:31:10.055Z"
   },
   {
    "duration": 6,
    "start_time": "2025-03-12T07:33:52.275Z"
   },
   {
    "duration": 2897,
    "start_time": "2025-03-12T07:33:52.283Z"
   },
   {
    "duration": 4,
    "start_time": "2025-03-12T07:33:55.183Z"
   },
   {
    "duration": 58,
    "start_time": "2025-03-12T07:34:19.078Z"
   },
   {
    "duration": 319166,
    "start_time": "2025-03-12T07:34:26.216Z"
   },
   {
    "duration": 5,
    "start_time": "2025-03-12T07:39:45.385Z"
   },
   {
    "duration": 2953,
    "start_time": "2025-03-12T07:39:45.392Z"
   },
   {
    "duration": 3,
    "start_time": "2025-03-12T07:39:48.348Z"
   },
   {
    "duration": 77,
    "start_time": "2025-03-12T08:00:13.902Z"
   },
   {
    "duration": 658704,
    "start_time": "2025-03-12T08:00:15.909Z"
   },
   {
    "duration": 3,
    "start_time": "2025-03-12T08:11:14.615Z"
   },
   {
    "duration": 3053,
    "start_time": "2025-03-12T08:11:14.620Z"
   },
   {
    "duration": 4,
    "start_time": "2025-03-12T08:11:17.675Z"
   },
   {
    "duration": 4092,
    "start_time": "2025-03-12T11:29:13.677Z"
   },
   {
    "duration": 5,
    "start_time": "2025-03-12T11:29:17.771Z"
   },
   {
    "duration": 887,
    "start_time": "2025-03-12T11:29:17.778Z"
   },
   {
    "duration": 114,
    "start_time": "2025-03-12T11:29:18.667Z"
   },
   {
    "duration": 471,
    "start_time": "2025-03-12T11:29:18.783Z"
   },
   {
    "duration": 3360,
    "start_time": "2025-03-12T11:29:19.256Z"
   },
   {
    "duration": 12,
    "start_time": "2025-03-12T11:29:22.618Z"
   },
   {
    "duration": 4,
    "start_time": "2025-03-12T11:29:22.632Z"
   },
   {
    "duration": 24,
    "start_time": "2025-03-12T11:29:22.637Z"
   },
   {
    "duration": 335,
    "start_time": "2025-03-12T11:29:22.663Z"
   },
   {
    "duration": 0,
    "start_time": "2025-03-12T11:29:23.000Z"
   },
   {
    "duration": 0,
    "start_time": "2025-03-12T11:29:23.001Z"
   },
   {
    "duration": 0,
    "start_time": "2025-03-12T11:29:23.002Z"
   },
   {
    "duration": 0,
    "start_time": "2025-03-12T11:29:23.003Z"
   },
   {
    "duration": 0,
    "start_time": "2025-03-12T11:29:23.004Z"
   },
   {
    "duration": 0,
    "start_time": "2025-03-12T11:29:23.006Z"
   },
   {
    "duration": 0,
    "start_time": "2025-03-12T11:29:23.007Z"
   },
   {
    "duration": 2321752,
    "start_time": "2025-03-12T11:30:48.817Z"
   },
   {
    "duration": 26,
    "start_time": "2025-03-12T12:09:30.571Z"
   },
   {
    "duration": 63,
    "start_time": "2025-03-12T12:09:30.599Z"
   },
   {
    "duration": 79,
    "start_time": "2025-03-12T12:09:30.665Z"
   },
   {
    "duration": 0,
    "start_time": "2025-03-12T12:09:30.745Z"
   },
   {
    "duration": 0,
    "start_time": "2025-03-12T12:09:30.746Z"
   },
   {
    "duration": 0,
    "start_time": "2025-03-12T12:09:30.747Z"
   },
   {
    "duration": 0,
    "start_time": "2025-03-12T12:09:30.748Z"
   },
   {
    "duration": 85,
    "start_time": "2025-03-12T12:15:32.145Z"
   },
   {
    "duration": 10,
    "start_time": "2025-03-12T12:16:04.436Z"
   },
   {
    "duration": 263620,
    "start_time": "2025-03-12T12:16:13.513Z"
   },
   {
    "duration": 4,
    "start_time": "2025-03-12T12:20:37.135Z"
   },
   {
    "duration": 943,
    "start_time": "2025-03-12T12:20:37.140Z"
   },
   {
    "duration": 3,
    "start_time": "2025-03-12T12:20:38.085Z"
   },
   {
    "duration": 46,
    "start_time": "2025-03-12T12:23:24.314Z"
   },
   {
    "duration": 9,
    "start_time": "2025-03-12T12:23:27.585Z"
   },
   {
    "duration": 4048,
    "start_time": "2025-03-12T13:18:29.883Z"
   },
   {
    "duration": 5,
    "start_time": "2025-03-12T13:18:33.933Z"
   },
   {
    "duration": 892,
    "start_time": "2025-03-12T13:18:33.939Z"
   },
   {
    "duration": 133,
    "start_time": "2025-03-12T13:18:34.833Z"
   },
   {
    "duration": 542,
    "start_time": "2025-03-12T13:18:34.968Z"
   },
   {
    "duration": 3423,
    "start_time": "2025-03-12T13:18:35.512Z"
   },
   {
    "duration": 3,
    "start_time": "2025-03-12T13:18:38.937Z"
   },
   {
    "duration": 6,
    "start_time": "2025-03-12T13:18:38.941Z"
   },
   {
    "duration": 24,
    "start_time": "2025-03-12T13:18:38.948Z"
   },
   {
    "duration": 2412623,
    "start_time": "2025-03-12T13:18:38.975Z"
   },
   {
    "duration": 33,
    "start_time": "2025-03-12T13:58:51.600Z"
   },
   {
    "duration": 51,
    "start_time": "2025-03-12T13:58:51.635Z"
   },
   {
    "duration": 10,
    "start_time": "2025-03-12T13:58:51.688Z"
   },
   {
    "duration": 4077,
    "start_time": "2025-03-12T15:24:11.992Z"
   },
   {
    "duration": 5,
    "start_time": "2025-03-12T15:24:16.071Z"
   },
   {
    "duration": 853,
    "start_time": "2025-03-12T15:24:16.078Z"
   },
   {
    "duration": 123,
    "start_time": "2025-03-12T15:24:16.933Z"
   },
   {
    "duration": 487,
    "start_time": "2025-03-12T15:24:17.058Z"
   },
   {
    "duration": 3376,
    "start_time": "2025-03-12T15:24:17.547Z"
   },
   {
    "duration": 7,
    "start_time": "2025-03-12T15:24:20.925Z"
   },
   {
    "duration": 9,
    "start_time": "2025-03-12T15:24:20.934Z"
   },
   {
    "duration": 29,
    "start_time": "2025-03-12T15:24:20.945Z"
   },
   {
    "duration": 2368887,
    "start_time": "2025-03-12T15:24:20.978Z"
   },
   {
    "duration": 27,
    "start_time": "2025-03-12T16:03:49.867Z"
   },
   {
    "duration": 121,
    "start_time": "2025-03-12T16:03:49.896Z"
   },
   {
    "duration": 10,
    "start_time": "2025-03-12T16:03:50.018Z"
   },
   {
    "duration": 48,
    "start_time": "2025-03-12T16:19:58.443Z"
   },
   {
    "duration": 4168,
    "start_time": "2025-03-12T16:20:08.059Z"
   },
   {
    "duration": 6,
    "start_time": "2025-03-12T16:20:12.228Z"
   },
   {
    "duration": 898,
    "start_time": "2025-03-12T16:20:12.236Z"
   },
   {
    "duration": 139,
    "start_time": "2025-03-12T16:20:13.136Z"
   },
   {
    "duration": 991,
    "start_time": "2025-03-12T16:20:13.278Z"
   },
   {
    "duration": 3430,
    "start_time": "2025-03-12T16:20:14.271Z"
   },
   {
    "duration": 5,
    "start_time": "2025-03-12T16:20:17.703Z"
   },
   {
    "duration": 9,
    "start_time": "2025-03-12T16:20:17.709Z"
   },
   {
    "duration": 25,
    "start_time": "2025-03-12T16:20:17.730Z"
   },
   {
    "duration": 2369594,
    "start_time": "2025-03-12T16:20:17.757Z"
   },
   {
    "duration": 26,
    "start_time": "2025-03-12T16:59:47.352Z"
   },
   {
    "duration": 67,
    "start_time": "2025-03-12T16:59:47.379Z"
   },
   {
    "duration": 8,
    "start_time": "2025-03-12T16:59:47.447Z"
   },
   {
    "duration": 2240977,
    "start_time": "2025-03-12T16:59:47.458Z"
   },
   {
    "duration": 0,
    "start_time": "2025-03-12T17:37:08.436Z"
   },
   {
    "duration": 0,
    "start_time": "2025-03-12T17:37:08.438Z"
   },
   {
    "duration": 0,
    "start_time": "2025-03-12T17:37:08.439Z"
   },
   {
    "duration": 52,
    "start_time": "2025-03-12T17:51:07.093Z"
   },
   {
    "duration": 52,
    "start_time": "2025-03-12T17:51:50.431Z"
   },
   {
    "duration": 8,
    "start_time": "2025-03-12T17:52:01.946Z"
   },
   {
    "duration": 306199,
    "start_time": "2025-03-12T17:52:14.731Z"
   },
   {
    "duration": 4,
    "start_time": "2025-03-12T17:57:39.382Z"
   },
   {
    "duration": 957,
    "start_time": "2025-03-12T17:57:46.290Z"
   },
   {
    "duration": 4,
    "start_time": "2025-03-12T17:57:49.803Z"
   },
   {
    "duration": 50,
    "start_time": "2025-03-12T17:58:07.195Z"
   },
   {
    "duration": 7,
    "start_time": "2025-03-12T17:58:09.637Z"
   },
   {
    "duration": 2001163,
    "start_time": "2025-03-12T17:58:15.874Z"
   },
   {
    "duration": 4,
    "start_time": "2025-03-12T18:31:50.209Z"
   },
   {
    "duration": 1017,
    "start_time": "2025-03-12T18:31:55.321Z"
   },
   {
    "duration": 4,
    "start_time": "2025-03-12T18:32:00.979Z"
   },
   {
    "duration": 51,
    "start_time": "2025-03-12T18:33:59.037Z"
   },
   {
    "duration": 11,
    "start_time": "2025-03-12T18:34:01.362Z"
   },
   {
    "duration": 4389,
    "start_time": "2025-03-13T05:10:02.792Z"
   },
   {
    "duration": 6,
    "start_time": "2025-03-13T05:10:07.183Z"
   },
   {
    "duration": 1002,
    "start_time": "2025-03-13T05:10:07.190Z"
   },
   {
    "duration": 131,
    "start_time": "2025-03-13T05:10:08.195Z"
   },
   {
    "duration": 502,
    "start_time": "2025-03-13T05:10:08.328Z"
   },
   {
    "duration": 3430,
    "start_time": "2025-03-13T05:10:08.832Z"
   },
   {
    "duration": 3,
    "start_time": "2025-03-13T05:10:12.264Z"
   },
   {
    "duration": 30,
    "start_time": "2025-03-13T05:10:12.269Z"
   },
   {
    "duration": 26,
    "start_time": "2025-03-13T05:10:12.301Z"
   },
   {
    "duration": 2110586,
    "start_time": "2025-03-13T05:10:12.330Z"
   },
   {
    "duration": 0,
    "start_time": "2025-03-13T05:45:22.918Z"
   },
   {
    "duration": 0,
    "start_time": "2025-03-13T05:45:22.919Z"
   },
   {
    "duration": 0,
    "start_time": "2025-03-13T05:45:22.920Z"
   },
   {
    "duration": 0,
    "start_time": "2025-03-13T05:45:22.921Z"
   },
   {
    "duration": 0,
    "start_time": "2025-03-13T05:45:22.922Z"
   },
   {
    "duration": 0,
    "start_time": "2025-03-13T05:45:22.923Z"
   },
   {
    "duration": 0,
    "start_time": "2025-03-13T05:45:22.924Z"
   },
   {
    "duration": 0,
    "start_time": "2025-03-13T05:45:22.925Z"
   },
   {
    "duration": 2696459,
    "start_time": "2025-03-13T05:45:34.243Z"
   },
   {
    "duration": 30,
    "start_time": "2025-03-13T06:30:30.703Z"
   },
   {
    "duration": 79,
    "start_time": "2025-03-13T06:30:30.735Z"
   },
   {
    "duration": 9,
    "start_time": "2025-03-13T06:30:30.816Z"
   },
   {
    "duration": 21,
    "start_time": "2025-03-13T06:30:30.826Z"
   },
   {
    "duration": 33,
    "start_time": "2025-03-13T06:30:30.848Z"
   },
   {
    "duration": 36,
    "start_time": "2025-03-13T06:30:30.883Z"
   },
   {
    "duration": 0,
    "start_time": "2025-03-13T06:30:30.920Z"
   },
   {
    "duration": 0,
    "start_time": "2025-03-13T06:30:30.921Z"
   },
   {
    "duration": 0,
    "start_time": "2025-03-13T06:30:30.922Z"
   },
   {
    "duration": 0,
    "start_time": "2025-03-13T06:30:30.923Z"
   },
   {
    "duration": 0,
    "start_time": "2025-03-13T06:30:30.924Z"
   },
   {
    "duration": 9,
    "start_time": "2025-03-13T06:31:28.677Z"
   },
   {
    "duration": 294397,
    "start_time": "2025-03-13T06:31:37.502Z"
   },
   {
    "duration": 4635334,
    "start_time": "2025-03-13T06:36:31.902Z"
   },
   {
    "duration": 0,
    "start_time": "2025-03-13T07:53:47.238Z"
   },
   {
    "duration": 0,
    "start_time": "2025-03-13T07:53:47.239Z"
   },
   {
    "duration": 0,
    "start_time": "2025-03-13T07:53:47.240Z"
   },
   {
    "duration": 0,
    "start_time": "2025-03-13T07:53:47.241Z"
   },
   {
    "duration": 14,
    "start_time": "2025-03-13T07:58:27.748Z"
   },
   {
    "duration": 21,
    "start_time": "2025-03-13T07:59:02.875Z"
   },
   {
    "duration": 19,
    "start_time": "2025-03-13T07:59:20.870Z"
   },
   {
    "duration": 4,
    "start_time": "2025-03-13T07:59:24.225Z"
   },
   {
    "duration": 3,
    "start_time": "2025-03-13T07:59:31.452Z"
   },
   {
    "duration": 947320,
    "start_time": "2025-03-13T07:59:48.186Z"
   },
   {
    "duration": 0,
    "start_time": "2025-03-13T08:15:35.508Z"
   },
   {
    "duration": 0,
    "start_time": "2025-03-13T08:15:35.509Z"
   },
   {
    "duration": 0,
    "start_time": "2025-03-13T08:15:35.512Z"
   },
   {
    "duration": 1,
    "start_time": "2025-03-13T08:15:35.512Z"
   },
   {
    "duration": 0,
    "start_time": "2025-03-13T08:15:35.513Z"
   },
   {
    "duration": 3,
    "start_time": "2025-03-13T08:15:54.073Z"
   },
   {
    "duration": 3,
    "start_time": "2025-03-13T08:15:54.512Z"
   },
   {
    "duration": 38057,
    "start_time": "2025-03-13T08:16:07.162Z"
   },
   {
    "duration": 243430,
    "start_time": "2025-03-13T08:17:12.705Z"
   },
   {
    "duration": 4,
    "start_time": "2025-03-13T08:23:03.340Z"
   },
   {
    "duration": 74,
    "start_time": "2025-03-13T08:23:20.013Z"
   },
   {
    "duration": 72,
    "start_time": "2025-03-13T08:23:32.954Z"
   },
   {
    "duration": 112,
    "start_time": "2025-03-13T08:25:01.403Z"
   },
   {
    "duration": 85,
    "start_time": "2025-03-13T08:26:23.609Z"
   },
   {
    "duration": 19509,
    "start_time": "2025-03-13T08:26:55.589Z"
   },
   {
    "duration": 2699,
    "start_time": "2025-03-13T08:27:24.417Z"
   },
   {
    "duration": 3,
    "start_time": "2025-03-13T08:27:27.118Z"
   },
   {
    "duration": 82,
    "start_time": "2025-03-13T08:28:05.127Z"
   },
   {
    "duration": 10,
    "start_time": "2025-03-13T08:28:13.994Z"
   },
   {
    "duration": 89594,
    "start_time": "2025-03-13T08:28:19.739Z"
   },
   {
    "duration": 2,
    "start_time": "2025-03-13T08:29:49.335Z"
   },
   {
    "duration": 4,
    "start_time": "2025-03-13T08:30:41.923Z"
   },
   {
    "duration": 19543,
    "start_time": "2025-03-13T08:30:48.353Z"
   },
   {
    "duration": 2737,
    "start_time": "2025-03-13T08:31:18.778Z"
   },
   {
    "duration": 3,
    "start_time": "2025-03-13T08:31:21.517Z"
   }
  ],
  "kernelspec": {
   "display_name": "Python 3 (ipykernel)",
   "language": "python",
   "name": "python3"
  },
  "language_info": {
   "codemirror_mode": {
    "name": "ipython",
    "version": 3
   },
   "file_extension": ".py",
   "mimetype": "text/x-python",
   "name": "python",
   "nbconvert_exporter": "python",
   "pygments_lexer": "ipython3",
   "version": "3.9.5"
  },
  "toc": {
   "base_numbering": 1,
   "nav_menu": {},
   "number_sections": true,
   "sideBar": true,
   "skip_h1_title": true,
   "title_cell": "Содержание",
   "title_sidebar": "Contents",
   "toc_cell": true,
   "toc_position": {
    "height": "calc(100% - 180px)",
    "left": "10px",
    "top": "150px",
    "width": "263px"
   },
   "toc_section_display": true,
   "toc_window_display": true
  }
 },
 "nbformat": 4,
 "nbformat_minor": 2
}
